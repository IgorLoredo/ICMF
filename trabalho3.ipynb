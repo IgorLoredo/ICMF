{
  "nbformat": 4,
  "nbformat_minor": 0,
  "metadata": {
    "colab": {
      "name": "trabalho3.ipynb",
      "provenance": [],
      "collapsed_sections": []
    },
    "kernelspec": {
      "name": "python3",
      "display_name": "Python 3"
    },
    "language_info": {
      "name": "python"
    }
  },
  "cells": [
    {
      "cell_type": "markdown",
      "source": [
        "### Trabalho 3\n",
        "#### Igor Loredo - 11275071\n",
        "#### Natã Botelho - 11275105"
      ],
      "metadata": {
        "id": "nXOd4-MHMpPf"
      }
    },
    {
      "cell_type": "code",
      "source": [
        "%pip install ta\n",
        "from ta import add_all_ta_features\n",
        "from ta.utils import dropna"
      ],
      "metadata": {
        "colab": {
          "base_uri": "https://localhost:8080/"
        },
        "id": "SY69NyqmQ3sm",
        "outputId": "70d370b6-8b6c-45f9-b3eb-24ad51f5a2c9"
      },
      "execution_count": null,
      "outputs": [
        {
          "output_type": "stream",
          "name": "stdout",
          "text": [
            "Looking in indexes: https://pypi.org/simple, https://us-python.pkg.dev/colab-wheels/public/simple/\n",
            "Collecting ta\n",
            "  Downloading ta-0.10.1.tar.gz (24 kB)\n",
            "Requirement already satisfied: numpy in /usr/local/lib/python3.7/dist-packages (from ta) (1.21.6)\n",
            "Requirement already satisfied: pandas in /usr/local/lib/python3.7/dist-packages (from ta) (1.3.5)\n",
            "Requirement already satisfied: python-dateutil>=2.7.3 in /usr/local/lib/python3.7/dist-packages (from pandas->ta) (2.8.2)\n",
            "Requirement already satisfied: pytz>=2017.3 in /usr/local/lib/python3.7/dist-packages (from pandas->ta) (2022.1)\n",
            "Requirement already satisfied: six>=1.5 in /usr/local/lib/python3.7/dist-packages (from python-dateutil>=2.7.3->pandas->ta) (1.15.0)\n",
            "Building wheels for collected packages: ta\n",
            "  Building wheel for ta (setup.py) ... \u001b[?25l\u001b[?25hdone\n",
            "  Created wheel for ta: filename=ta-0.10.1-py3-none-any.whl size=28985 sha256=189245321df67bfecd1011ea41d9d43ba8c48f0f8abe017c0b3de55f3c3dfd0e\n",
            "  Stored in directory: /root/.cache/pip/wheels/bc/2a/c2/a56e77d07edc16a1fa7fb012667e55cb0643cfa65996bddecc\n",
            "Successfully built ta\n",
            "Installing collected packages: ta\n",
            "Successfully installed ta-0.10.1\n"
          ]
        }
      ]
    },
    {
      "cell_type": "code",
      "execution_count": null,
      "metadata": {
        "id": "mPc7RpJArqex"
      },
      "outputs": [],
      "source": [
        "from sklearn.tree import DecisionTreeClassifier\n",
        "from sklearn.ensemble import RandomForestClassifier\n",
        "from sklearn.neural_network import MLPClassifier\n",
        "from sklearn import metrics\n",
        "from sklearn import tree\n",
        "\n",
        "import numpy as np\n",
        "import pandas as pd\n",
        "import matplotlib.pyplot as plt\n",
        "import seaborn as sns\n",
        "\n",
        "sns.set(style='whitegrid')"
      ]
    },
    {
      "cell_type": "code",
      "source": [
        "#Obter dados online da base do Yahoo\n",
        "def get_stock_data(ticker, start, end, interval):\n",
        "  start = pd.to_datetime([start]).view(int)[0]//10**9 # convert to unix timestamp.\n",
        "  end = pd.to_datetime([end]).view(int)[0]//10**9 # convert to unix timestamp.\n",
        "  url = 'https://query1.finance.yahoo.com/v7/finance/download/' + ticker + '?period1=' + str(start) + '&period2=' + str(end) + '&interval=' + str(interval) + '&events=history'\n",
        "  print(url)\n",
        "  df = pd.read_csv(url)\n",
        "  return df"
      ],
      "metadata": {
        "id": "4qAQDZ97-Mre"
      },
      "execution_count": null,
      "outputs": []
    },
    {
      "cell_type": "markdown",
      "source": [
        "Dados da petrobras, selic e Itau"
      ],
      "metadata": {
        "id": "tDerPxO0PCxU"
      }
    },
    {
      "cell_type": "code",
      "source": [
        "petr4 = get_stock_data('PETR4.SA', '2005-01-01', '2021-12-31', '1d')\n",
        "petr4.set_index(keys = 'Date', inplace = True)\n",
        "\n",
        "itub4 = get_stock_data('ITUB4.SA', '2005-01-01', '2021-12-31', '1d')\n",
        "itub4.set_index(keys = 'Date', inplace = True)\n",
        "\n",
        "selic = get_stock_data('SELIC.BK', '2005-01-01', '2021-12-31', '1d')\n",
        "selic.set_index(keys = 'Date', inplace = True)\n"
      ],
      "metadata": {
        "colab": {
          "base_uri": "https://localhost:8080/"
        },
        "id": "BMeoYIlmAc9-",
        "outputId": "e729ebf4-1061-490b-fb94-0d766b637c23"
      },
      "execution_count": null,
      "outputs": [
        {
          "output_type": "stream",
          "name": "stdout",
          "text": [
            "https://query1.finance.yahoo.com/v7/finance/download/PETR4.SA?period1=1104537600&period2=1640908800&interval=1d&events=history\n",
            "https://query1.finance.yahoo.com/v7/finance/download/ITUB4.SA?period1=1104537600&period2=1640908800&interval=1d&events=history\n",
            "https://query1.finance.yahoo.com/v7/finance/download/SELIC.BK?period1=1104537600&period2=1640908800&interval=1d&events=history\n"
          ]
        }
      ]
    },
    {
      "cell_type": "code",
      "source": [
        "def transformDados(dadosTransform):\n",
        "  for index, row in dadosTransform.iterrows():\n",
        "    dadosTransform.at[index, 'High'] = row['High']/row['Close'] * row['Adj Close']\n",
        "    dadosTransform.at[index, 'Low'] = row['Low']/row['Close'] * row['Adj Close']\n",
        "    dadosTransform.at[index, 'Close'] = row['Adj Close']"
      ],
      "metadata": {
        "id": "FWfMO66Depf2"
      },
      "execution_count": null,
      "outputs": []
    },
    {
      "cell_type": "code",
      "source": [
        "#Selecionar quais dados serão utilizados com os algoritmos abaixo\n",
        "dadosSelic = selic.copy()\n",
        "transformDados(dadosSelic)\n",
        "\n",
        "dadosPetro = petr4.copy()\n",
        "transformDados(dadosPetro)\n",
        "\n",
        "dadosItau = itub4.copy()\n",
        "transformDados(dadosItau)"
      ],
      "metadata": {
        "id": "bn66TErNIFAl"
      },
      "execution_count": null,
      "outputs": []
    },
    {
      "cell_type": "code",
      "source": [
        "def windowsButAndSell(dadosTransfrom):\n",
        "  dadosTransfrom['Action']=-1000   # No action\n",
        "\n",
        "  jan_inicio = 0\n",
        "  jan_tam = 11 #Tamanho da janela (número de dias)\n",
        "  jan_fim = jan_inicio + jan_tam\n",
        "\n",
        "  total_dados = dadosTransfrom.shape[0]\n",
        "  cont = 0\n",
        "\n",
        "  while cont < (total_dados):\n",
        "    min = dadosTransfrom['Close'].iloc[jan_inicio:jan_fim].min()\n",
        "    max = dadosTransfrom['Close'].iloc[jan_inicio:jan_fim].max()\n",
        "    for i in range(jan_inicio, jan_fim+1):\n",
        "      if ((dadosTransfrom['Close'].iloc[i] == min)):\n",
        "        dadosTransfrom.loc[dadosTransfrom.index[i],'Action'] = 0 # Hold\n",
        "        dadosTransfrom.loc[dadosTransfrom.index[i+1],'Action'] = 1 #Buy\n",
        "      elif ((dadosTransfrom['Close'].iloc[i] == max)):\n",
        "        dadosTransfrom.loc[dadosTransfrom.index[i],'Action'] = 0 # Hold\n",
        "        dadosTransfrom.loc[dadosTransfrom.index[i+1],'Action'] = -1 # Sell\n",
        "      elif (dadosTransfrom['Action'].iloc[i] == -1000):\n",
        "        dadosTransfrom.loc[dadosTransfrom.index[i],'Action'] = 0 #Hold\n",
        "    jan_inicio = jan_fim + 1\n",
        "    jan_fim = jan_inicio + jan_tam\n",
        "    cont  = jan_fim"
      ],
      "metadata": {
        "id": "DBg8vh_agcz9"
      },
      "execution_count": null,
      "outputs": []
    },
    {
      "cell_type": "code",
      "source": [
        "\n",
        "windowsButAndSell(dadosSelic)\n",
        "windowsButAndSell(dadosPetro)\n",
        "windowsButAndSell(dadosItau)\n"
      ],
      "metadata": {
        "id": "-E5l-syxIE0V"
      },
      "execution_count": null,
      "outputs": []
    },
    {
      "cell_type": "markdown",
      "source": [
        ""
      ],
      "metadata": {
        "id": "80hJBILjQtKU"
      }
    },
    {
      "cell_type": "code",
      "source": [
        "#Cálculo das bandas de Bollinger\n",
        "def calcVolatility(dados):\n",
        "  from ta.volatility import BollingerBands\n",
        "  ind_bb = BollingerBands(close=dados['Close'], window=20, window_dev=2)\n",
        "  dados['bb_hb'] = ind_bb.bollinger_hband()\n",
        "  dados['bb_lb'] = ind_bb.bollinger_lband()\n",
        "  dados['bb_mb'] = ind_bb.bollinger_mavg()\n",
        "  dados['bb_hr'] = dados['bb_hb']/dados['Close']\n",
        "  dados['bb_lr'] = dados['bb_lb']/dados['Close']\n",
        "  dados['bb_mr'] = dados['bb_mb']/dados['Close']"
      ],
      "metadata": {
        "id": "P7t3IFjrPArk"
      },
      "execution_count": null,
      "outputs": []
    },
    {
      "cell_type": "code",
      "source": [
        "# Cálculo do indicador RSI\n",
        "def calcRSI(dados):\n",
        "  from ta.momentum import RSIIndicator\n",
        "  ind_rsi = RSIIndicator(close=dados['Close'], window=2)\n",
        "  dados['RSI'] = ind_rsi.rsi()/100.0"
      ],
      "metadata": {
        "id": "bR7XGK17PAhu"
      },
      "execution_count": null,
      "outputs": []
    },
    {
      "cell_type": "code",
      "source": [
        "# usamos o roc, ajustamente porque traz um oscilador de momentum\n",
        "def calcROC(dados):\n",
        "  from ta.momentum import ROCIndicator\n",
        "  ind_roc = ROCIndicator(close=dados['Close'], window=2)\n",
        "  dados['ROC'] = ind_roc.roc()/100.0"
      ],
      "metadata": {
        "id": "xBaCy6x4qN5H"
      },
      "execution_count": null,
      "outputs": []
    },
    {
      "cell_type": "code",
      "source": [
        "calcVolatility(dadosSelic)\n",
        "calcRSI(dadosSelic)\n",
        "calcROC(dadosSelic)\n",
        "\n",
        "calcVolatility(dadosPetro)\n",
        "calcRSI(dadosPetro)\n",
        "calcROC(dadosPetro)\n",
        "\n",
        "calcVolatility(dadosItau)\n",
        "calcRSI(dadosItau)\n",
        "calcROC(dadosItau)"
      ],
      "metadata": {
        "id": "0SVyH_xRWkho"
      },
      "execution_count": null,
      "outputs": []
    },
    {
      "cell_type": "markdown",
      "source": [
        "justicar a escola dos metodos"
      ],
      "metadata": {
        "id": "YevmFjIXQt2O"
      }
    },
    {
      "cell_type": "code",
      "source": [
        "class trainClass:\n",
        "    def __init__(self):\n",
        "        self.din = 0\n",
        "        self.dout = 0\n",
        "        self.train_in = 0\n",
        "        self.train_out = 0\n",
        "        self.test_in = 0\n",
        "        self.test_out = 0"
      ],
      "metadata": {
        "id": "z3tqmtc-jp-a"
      },
      "execution_count": null,
      "outputs": []
    },
    {
      "cell_type": "code",
      "source": [
        "def prepareData(dados): \n",
        "  # Exclui as primeiras linhas do data frame, uma vez que nem todos os índices estão disponíveis nessas datas.\n",
        "  dados = dados.iloc[20:]\n",
        "  train = trainClass()\n",
        "  # Criação da matriz de dados de entrada e do vetor de dados de saída dos algoritmos de ML\n",
        "  train.din = dados[['bb_hr', 'bb_lr', 'bb_mr', 'ROC', 'RSI']].reset_index().drop(['Date'], axis=1).to_numpy()\n",
        "  train.dout = dados['Action'].reset_index().drop(['Date'], axis=1).to_numpy()\n",
        "\n",
        "  # Separação dos dados em conjunto de treinamento e conjunto de teste/validação.\n",
        "  train.train_in =   train.din[0:1000]\n",
        "  train.train_out = train.dout[1:1001]\n",
        "\n",
        "  train.test_in =   train.din[1000:2000]\n",
        "  train.test_out = train.dout[1001:2001]\n",
        "\n",
        "  print(train.din.shape)\n",
        "  print(train.dout.shape)\n",
        "\n",
        "  return train\n",
        "  # createMatriz(dados, 'ROC')\n",
        "\n",
        "  "
      ],
      "metadata": {
        "id": "MAlqyN6jROCF"
      },
      "execution_count": null,
      "outputs": []
    },
    {
      "cell_type": "code",
      "source": [
        "selicDadosTreino = prepareData(dadosSelic)\n",
        "petroDadosTreino = prepareData(dadosPetro)\n",
        "itauDadosTreino = prepareData(dadosItau)"
      ],
      "metadata": {
        "colab": {
          "base_uri": "https://localhost:8080/"
        },
        "id": "krOUo1dsht6D",
        "outputId": "0652cd74-302b-4b3a-f196-17050b2b3f69"
      },
      "execution_count": null,
      "outputs": [
        {
          "output_type": "stream",
          "name": "stdout",
          "text": [
            "(1246, 5)\n",
            "(1246, 1)\n",
            "(4204, 5)\n",
            "(4204, 1)\n",
            "(4204, 5)\n",
            "(4204, 1)\n"
          ]
        }
      ]
    },
    {
      "cell_type": "code",
      "source": [
        "def trainData(dadosTreino, clf):\n",
        "  # random forest conseguimos um resulto muito bom, junto com árvore de decisão\n",
        "  # ja na MLP conseguimos um resultado bom\n",
        "\n",
        "  # Treina o modelo com os dados de entrada/saída\n",
        "  clfMLPC.fit(dadosTreino.train_in, dadosTreino.train_out.ravel())\n",
        "\n",
        "  # Avaliação dos resultados do conjunto de dados de treinamento\n",
        "  y_pred_train = clf.predict(dadosTreino.train_in)\n",
        "  print(\"Accuracy train:\",metrics.accuracy_score(dadosTreino.train_out, y_pred_train))\n",
        "\n",
        "  # Avaliação dos resultados do conjunto de dados de teste\n",
        "  y_pred_test = clf.predict(dadosTreino.test_in)\n",
        "  print(\"Accuracy test:\",metrics.accuracy_score(dadosTreino.test_out, y_pred_test))\n",
        "\n",
        "  # Resultado dos algoritmos para todo o conjunto de dados.\n",
        "  y_pred_all = clf.predict(dadosTreino.din)"
      ],
      "metadata": {
        "id": "pxP6Omq8kR32"
      },
      "execution_count": null,
      "outputs": []
    },
    {
      "cell_type": "code",
      "source": [
        "# Algoritmos de aprendizado de máquina. Utilizar apenas um deles em cada teste.\n",
        "\n",
        "# Rede Neural MLP com parâmetros solver e activation alterados para melhor desempenho de aprendizado. \n",
        "clfMLPC = MLPClassifier(solver='lbfgs', hidden_layer_sizes=(10, ), random_state=1, max_iter=100000, activation='tanh')\n",
        "\n",
        "# Árvore de Decisão\n",
        "clfDTC = DecisionTreeClassifier(random_state=1, max_depth=20)\n",
        "\n",
        "# Random Forest\n",
        "clfRFC = RandomForestClassifier(random_state=1, max_depth=10, n_estimators=3)"
      ],
      "metadata": {
        "id": "r7cghX6SbJgS"
      },
      "execution_count": null,
      "outputs": []
    },
    {
      "cell_type": "code",
      "source": [
        "trainData(selicDadosTreino, clfMLPC)\n",
        "trainData(selicDadosTreino, clfDTC)\n",
        "trainData(selicDadosTreino, clfRFC)"
      ],
      "metadata": {
        "id": "9TfL-eVFlAuP"
      },
      "execution_count": null,
      "outputs": []
    },
    {
      "cell_type": "code",
      "source": [
        "\n",
        "\n",
        "\n",
        "\n",
        "\n",
        "  # inclusão da saída dos algoritmos de ML no Dataframe \"dados_ml\". É possível compara essa saída com a saída desejada (ideal).\n",
        "  dados['ML-Action'] = y_pred_all\n",
        "  \n",
        "  clfDTC.fit(train_in, train_out.ravel())\n",
        "\n",
        "  # Avaliação dos resultados do conjunto de dados de treinamento\n",
        "  y_pred_train = clf.predict(train_in)\n",
        "  print(\"Accuracy train:\",metrics.accuracy_score(train_out, y_pred_train))\n",
        "\n",
        "  # Avaliação dos resultados do conjunto de dados de teste\n",
        "  y_pred_test = clf.predict(test_in)\n",
        "  print(\"Accuracy test:\",metrics.accuracy_score(test_out, y_pred_test))\n",
        "\n",
        "  # Resultado dos algoritmos para todo o conjunto de dados.\n",
        "  y_pred_all = clf.predict(din)\n",
        "\n",
        "  # inclusão da saída dos algoritmos de ML no Dataframe \"dados_ml\". É possível compara essa saída com a saída desejada (ideal).\n",
        "  dados['ML-Action'] = y_pred_all\n",
        "\n",
        "  clfRFC.fit(train_in, train_out.ravel())\n",
        "\n",
        "  # Avaliação dos resultados do conjunto de dados de treinamento\n",
        "  y_pred_train = clf.predict(train_in)\n",
        "  print(\"Accuracy train:\",metrics.accuracy_score(train_out, y_pred_train))\n",
        "\n",
        "  # Avaliação dos resultados do conjunto de dados de teste\n",
        "  y_pred_test = clf.predict(test_in)\n",
        "  print(\"Accuracy test:\",metrics.accuracy_score(test_out, y_pred_test))\n",
        "\n",
        "  # Resultado dos algoritmos para todo o conjunto de dados.\n",
        "  y_pred_all = clf.predict(din)\n",
        "\n",
        "  # inclusão da saída dos algoritmos de ML no Dataframe \"dados_ml\". É possível compara essa saída com a saída desejada (ideal).\n",
        "  dados['ML-Action'] = y_pred_all\n",
        "\n",
        "  "
      ],
      "metadata": {
        "id": "gqntGluzhs9q"
      },
      "execution_count": null,
      "outputs": []
    },
    {
      "cell_type": "code",
      "source": [
        "dataTrain(dadosSelic)\n",
        "dataTrain(dadosPetro)\n",
        "dataTrain(dadosItau)"
      ],
      "metadata": {
        "id": "CaxqqLYveTT2"
      },
      "execution_count": null,
      "outputs": []
    },
    {
      "cell_type": "code",
      "source": [
        "def avaliaResult(clf, train_in, train_out, ):\n",
        "  "
      ],
      "metadata": {
        "id": "BHVlbrktRol1"
      },
      "execution_count": null,
      "outputs": []
    },
    {
      "cell_type": "code",
      "source": [
        "# Cálculo do saldo e de outras estatísticas dos trades\n",
        "def saldoCalc(dados):\n",
        "  dados['Saldo'] = 0\n",
        "  saldo = 100\n",
        "  comprado=0\n",
        "  val_neg = 0\n",
        "  trades = 0\n",
        "  trades_pos = 0\n",
        "  media_pos = 0\n",
        "  media_neg = 0\n",
        "\n",
        "  for i in range(0, dados.shape[0]):\n",
        "    if (dados['ML-Action'].iloc[i] == 1 and comprado == 0):\n",
        "      val_neg = dados['Close'].iloc[i]\n",
        "      comprado = 1\n",
        "    elif (dados['ML-Action'].iloc[i] == 1 and comprado == -1):\n",
        "      res_trade = val_neg / dados['Close'].iloc[i] - 1\n",
        "      if res_trade > 0:\n",
        "        trades_pos = trades_pos + 1\n",
        "        media_pos = media_pos + res_trade\n",
        "      else:\n",
        "        media_neg = media_neg + res_trade\n",
        "      saldo = saldo * (1 + res_trade)\n",
        "      trades = trades + 1\n",
        "      comprado = 0\n",
        "    elif (dados['ML-Action'].iloc[i] == -1 and comprado == 0):\n",
        "      comprado = -1\n",
        "      val_neg = dados['Close'].iloc[i]\n",
        "    elif (dados['ML-Action'].iloc[i] == -1 and comprado == 1):    \n",
        "      res_trade = dados['Close'].iloc[i]/val_neg - 1\n",
        "      if res_trade > 0:\n",
        "        trades_pos = trades_pos + 1\n",
        "        media_pos = media_pos + res_trade\n",
        "      else:\n",
        "        media_neg = media_neg + res_trade\n",
        "      saldo = saldo * (1 + res_trade)\n",
        "      trades = trades + 1\n",
        "      comprado = 0\n",
        "    dados.loc[dados.index[i], 'Saldo'] = saldo\n",
        "\n",
        "  if (trades_pos > 0):\n",
        "    print(\"Trades total:\", trades, \"Trades positivos:\", trades_pos, \"(\", round(trades_pos/trades*100, 2), \"%)\")\n",
        "    print(\"Media trades positivos:\", round(media_pos/trades_pos*100, 2), \"%, Media trades negativos:\", round(media_neg/(trades-trades_pos)*100, 2), \"%\")\n",
        "    print(\"Rent. buy and hold:\", round((dados['Close'].iloc[-1]/dados['Close'].iloc[0]-1)*100, 2), \"%\")\n",
        "    print(\"Rent. ML trade:\", round((dados['Saldo'].iloc[-1]/dados['Saldo'].iloc[0]-1)*100, 2), \"%\")\n",
        "  else:\n",
        "    print(\"Não foram feitos trades no período.\")"
      ],
      "metadata": {
        "id": "jpd7uSDpH_wm"
      },
      "execution_count": null,
      "outputs": []
    },
    {
      "cell_type": "code",
      "source": [
        "# Normalização e apresentação gráfica dos resultados\n",
        "def graphPlot(dados):\n",
        "  dados[['Close', 'Saldo']] = dados[['Close', 'Saldo']] / dados[['Close', 'Saldo']].iloc[1000] * 100\n",
        "  dados[['Close', 'Saldo']].iloc[1000:].plot(figsize = (15,5), title='Curva de capital');\n",
        "#dados[['ml-buy','Saldo']]"
      ],
      "metadata": {
        "id": "_MDCUxkIRzyk"
      },
      "execution_count": null,
      "outputs": []
    },
    {
      "cell_type": "code",
      "source": [
        "print(\"Resultados MLPClassifier:\\n\")\n",
        "avaliaResult(clfMLPC)\n",
        "saldoCalc()\n",
        "graphPlot()"
      ],
      "metadata": {
        "id": "0ufU9E4pmxrY"
      },
      "execution_count": null,
      "outputs": []
    },
    {
      "cell_type": "code",
      "source": [
        "print(\"\\nResultados Árvore de Decisão:\\n\")\n",
        "avaliaResult(clfDTC)\n",
        "saldoCalc()\n",
        "graphPlot()"
      ],
      "metadata": {
        "id": "RAcHMtGMmxbS"
      },
      "execution_count": null,
      "outputs": []
    },
    {
      "cell_type": "code",
      "source": [
        "print(\"\\nResultados Random Forest:\\n\")\n",
        "avaliaResult(clfRFC)\n",
        "saldoCalc()\n",
        "graphPlot()"
      ],
      "metadata": {
        "id": "3OPcGRzBlIMN"
      },
      "execution_count": null,
      "outputs": []
    },
    {
      "cell_type": "code",
      "source": [
        "# Cálculo do saldo e de outras estatísticas dos trades\n",
        "def statusTrades(dadosTrades):\n",
        "  dadosTrades['Saldo'] = 0\n",
        "  saldo = 100\n",
        "  comprado=0\n",
        "  val_neg = 0\n",
        "  trades = 0\n",
        "  trades_pos = 0\n",
        "  media_pos = 0\n",
        "  media_neg = 0\n",
        "\n",
        "  for i in range(0, dadosTrades.shape[0]):\n",
        "    if (dadosTrades['ML-Action'].iloc[i] == 1 and comprado == 0):\n",
        "      val_neg = dadosTrades['Close'].iloc[i]\n",
        "      comprado = 1\n",
        "    elif (dadosTrades['ML-Action'].iloc[i] == 1 and comprado == -1):\n",
        "      res_trade = val_neg / dadosTrades['Close'].iloc[i] - 1\n",
        "      if res_trade > 0:\n",
        "        trades_pos = trades_pos + 1\n",
        "        media_pos = media_pos + res_trade\n",
        "      else:\n",
        "        media_neg = media_neg + res_trade\n",
        "      dadosTrades = dadosTrades * (1 + res_trade)\n",
        "      trades = trades + 1\n",
        "      comprado = 0\n",
        "    elif (dadosTrades['ML-Action'].iloc[i] == -1 and comprado == 0):\n",
        "      comprado = -1\n",
        "      val_neg = dadosTrades['Close'].iloc[i]\n",
        "    elif (dadosTrades['ML-Action'].iloc[i] == -1 and comprado == 1):    \n",
        "      res_trade = dadosTrades['Close'].iloc[i]/val_neg - 1\n",
        "      if res_trade > 0:\n",
        "        trades_pos = trades_pos + 1\n",
        "        media_pos = media_pos + res_trade\n",
        "      else:\n",
        "        media_neg = media_neg + res_trade\n",
        "      dadosTrades = dadosTrades * (1 + res_trade)\n",
        "      trades = trades + 1\n",
        "      comprado = 0\n",
        "    dadosTrades.loc[dados.index[i], 'Saldo'] = dadosTrades\n",
        "\n",
        "  if (trades_pos > 0):\n",
        "    print(\"Trades total:\", trades, \"Trades positivos:\", trades_pos, \"(\", round(trades_pos/trades*100, 2), \"%)\")\n",
        "    print(\"Media trades positivos:\", round(media_pos/trades_pos*100, 2), \"%, Media trades negativos:\", round(media_neg/(trades-trades_pos)*100, 2), \"%\")\n",
        "    print(\"Rent. buy and hold:\", round((dadosTrades['Close'].iloc[-1]/dadosTrades['Close'].iloc[0]-1)*100, 2), \"%\")\n",
        "    print(\"Rent. ML trade:\", round((dadosTrades['Saldo'].iloc[-1]/dadosTrades['Saldo'].iloc[0]-1)*100, 2), \"%\")\n",
        "  else:\n",
        "    print(\"Não foram feitos trades no período.\")"
      ],
      "metadata": {
        "id": "t3KhPMxyKH9I"
      },
      "execution_count": null,
      "outputs": []
    },
    {
      "cell_type": "code",
      "source": [
        "def statistics(clfIn, dadosTransform, trainIn ,trainOut, testIn, testOut):\n",
        "  # Avaliação dos resultados do conjunto de dados de treinamento\n",
        "  y_pred_train = clfIn.predict(trainIn)\n",
        "  print(\"Accuracy train:\",metrics.accuracy_score(trainOut, y_pred_train))\n",
        "\n",
        "  # Avaliação dos resultados do conjunto de dados de teste\n",
        "  y_pred_test = clfIn.predict(testIn)\n",
        "  print(\"Accuracy test:\",metrics.accuracy_score(testOut, y_pred_test))\n",
        "\n",
        "  # Resultado dos algoritmos para todo o conjunto de dados.\n",
        "  y_pred_all = clfIn.predict(din)\n",
        "  return y_pred_test"
      ],
      "metadata": {
        "id": "VOPPbgatKJic"
      },
      "execution_count": null,
      "outputs": []
    },
    {
      "cell_type": "code",
      "source": [
        "def createMatriz(dadosMatriz, parameterFisrt, parameterSecond):\n",
        "  dadosMatriz = dadosMatriz.iloc[20:]\n",
        "\n",
        "  # Criação da matriz de dados de entrada e do vetor de dados de saída dos algoritmos de ML\n",
        "  dinTransform = dadosMatriz[['bb_hr', 'bb_lr', 'bb_mr', parameterFisrt, parameterSecond]].reset_index().drop(['Date'], axis=1).to_numpy()\n",
        "  doutTransform  = dadosMatriz['Action'].reset_index().drop(['Date'], axis=1).to_numpy()\n",
        "\n",
        "  # Separação dos dados em conjunto de treinamento e conjunto de teste/validação.\n",
        "  train_in =   dinTransform[0:1000]\n",
        "  train_out = doutTransform[1:1001]\n",
        "\n",
        "  test_in =   dinTransform[1000:2000]\n",
        "  test_out = doutTransform[1001:2001]\n",
        "\n",
        "  print(dinTransform.shape)\n",
        "  print(doutTransform.shape)\n",
        "  return train_in, train_out, test_in, test_out"
      ],
      "metadata": {
        "id": "ts62QHUvhp0p"
      },
      "execution_count": null,
      "outputs": []
    },
    {
      "cell_type": "code",
      "source": [
        "from ta.momentum import ROCIndicator\n",
        "ind_roc = ROCIndicator(close=dadosItau['Close'], window=2)\n",
        "dadosPetro['ROC'] = ind_roc.roc()/100.0"
      ],
      "metadata": {
        "id": "t1MdekukLrtt"
      },
      "execution_count": null,
      "outputs": []
    },
    {
      "cell_type": "code",
      "source": [
        "# Cálculo do indicador RSI\n",
        "\n",
        "from ta.momentum import RSIIndicator\n",
        "ind_rsi = RSIIndicator(close=dadosPetro['Close'], window=2)\n",
        "dadosPetro['RSI'] = ind_rsi.rsi()/100.0"
      ],
      "metadata": {
        "id": "oH2eluoUgbqJ"
      },
      "execution_count": null,
      "outputs": []
    }
  ]
}