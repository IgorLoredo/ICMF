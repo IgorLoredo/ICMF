{
  "nbformat": 4,
  "nbformat_minor": 0,
  "metadata": {
    "colab": {
      "name": "trabalho2.ipynb",
      "provenance": [],
      "collapsed_sections": []
    },
    "kernelspec": {
      "name": "python3",
      "display_name": "Python 3"
    },
    "language_info": {
      "name": "python"
    }
  },
  "cells": [
    {
      "cell_type": "markdown",
      "source": [
        "### Trabalho 2 \n",
        "#### Igor Loredo - 11275071\n",
        "#### Natã Botelho - 11275105 \n",
        "#### A partir do material visto nas aulas, criar portfólios com maior rentabilidade e outro com menor volatilidade \n"
      ],
      "metadata": {
        "id": "31FdxE4nS1YG"
      }
    },
    {
      "cell_type": "code",
      "execution_count": null,
      "metadata": {
        "id": "_3oaRj9jTOoy",
        "colab": {
          "base_uri": "https://localhost:8080/"
        },
        "outputId": "a0627c38-a913-4496-91e4-189928d3f630"
      },
      "outputs": [
        {
          "output_type": "stream",
          "name": "stderr",
          "text": [
            "/usr/local/lib/python3.7/dist-packages/statsmodels/tools/_testing.py:19: FutureWarning: pandas.util.testing is deprecated. Use the functions in the public API at pandas.testing instead.\n",
            "  import pandas.util.testing as tm\n"
          ]
        }
      ],
      "source": [
        "import pandas.testing as tm\n",
        "from scipy.optimize import minimize\n",
        "import statsmodels.api as sm\n",
        "import numpy as np\n",
        "import pandas as pd\n",
        "from operator import itemgetter"
      ]
    },
    {
      "cell_type": "markdown",
      "source": [
        "\n",
        "\n",
        "```\n",
        "Downloading Dados\n",
        "```\n",
        "\n"
      ],
      "metadata": {
        "id": "jcs-l67IPRfO"
      }
    },
    {
      "cell_type": "code",
      "source": [
        "data_inicial = 13 #  13 = 01/2005\n",
        "data_final   = data_inicial + 192 # 12/2020\n",
        "colunas = 291 #len(comp_indice.columns)\n",
        "step_port = 1\n",
        "step_eval = 1\n",
        "\n",
        "\n",
        "#Composição do índice IBX\n",
        "comp_indice=pd.read_excel('Dados-Comp-IBRX.xlsx', engine='openpyxl')\n",
        "comp_indice.set_index(keys = 'Data', inplace = True)\n",
        "\n",
        "#Preços de fechamento dos ativos\n",
        "fechamento=pd.read_excel('Dados-Fechamento.xlsx', engine='openpyxl')\n",
        "fechamento.set_index(keys = 'Data', inplace = True)\n",
        "\n",
        "#Indices de referência (Ibov, IBX, SELIC...)\n",
        "referencias=pd.read_excel('Dados-Base.xlsx', engine='openpyxl')\n",
        "referencias.set_index(keys = 'Data', inplace = True)\n",
        "print(referencias)\n",
        "#-------------------------------------------\n",
        "\n",
        "# Fator Qualidade (ROIC das empresas)\n",
        "fator_ROIC=pd.read_excel('Dados-ROIC-A2.xlsx', engine='openpyxl')\n",
        "fator_ROIC.set_index(keys = 'Data', inplace = True)\n",
        "ranked_ROIC=fator_ROIC.rank(axis=1, numeric_only=True, ascending=False, method='first')\n",
        "\n",
        "# Fator Momentum (Momentum de 12 meses)\n",
        "fator_Mom=pd.read_excel('Dados-Momentum-12.xlsx', engine='openpyxl')\n",
        "fator_Mom.set_index(keys = 'Data', inplace = True)\n",
        "ranked_Mom=fator_Mom.rank(axis=1, numeric_only=True, ascending=False, method='first')\n",
        "\n",
        "#Fator Tamanho (Valor de mercado das empresas)\n",
        "fator_Val_Merc=pd.read_excel('Dados-Val-Merc.xlsx', engine='openpyxl')\n",
        "fator_Val_Merc.set_index(keys = 'Data', inplace = True)\n",
        "ranked_Val_Merc=fator_Val_Merc.rank(axis=1, numeric_only=True, ascending=True, method='first')\n",
        "\n",
        "#Fator Valor (Preço / Valor Patrimonial)\n",
        "fator_PVP=pd.read_excel('Dados-PVP.xlsx', engine='openpyxl')\n",
        "fator_PVP.set_index(keys = 'Data', inplace = True)\n",
        "ranked_PVP=fator_PVP.rank(axis=1, numeric_only=True, ascending=True, method='first')\n",
        "\n",
        "#Fator Volatilidade (Volatilidade em 12 meses)\n",
        "fator_Vol=pd.read_excel('Dados-Vol-12.xlsx', engine='openpyxl')\n",
        "fator_Vol.set_index(keys = 'Data', inplace = True)\n",
        "ranked_Vol=fator_Vol.rank(axis=1, numeric_only=True, ascending=True, method='first')\n",
        "\n",
        "print(\"Periodo de avaliacao - de:\", comp_indice.index[data_inicial], \"(\", data_inicial, \")\",  \"ate:\", comp_indice.index[data_final-1], \"(\", data_final-1, \")\")\n",
        "print(\"Rebalanceamento a cada\", step_eval,\"/\", step_port, \"meses\")"
      ],
      "metadata": {
        "colab": {
          "base_uri": "https://localhost:8080/"
        },
        "id": "3bk0SiK1PSAO",
        "outputId": "97d693c4-cecb-493d-db82-5a68d71f19d4"
      },
      "execution_count": null,
      "outputs": [
        {
          "output_type": "stream",
          "name": "stdout",
          "text": [
            "               IBOV      IBXX        SELIC       IPCA\n",
            "Data                                                 \n",
            "Dez-2003   22236.00   6004.00  1031.614995  10.642263\n",
            "Jan-2004   21851.00   5875.00  1044.691245  10.723145\n",
            "Fev-2004   21755.00   6041.00  1056.019816  10.788556\n",
            "Mar-2004   22142.00   6077.00  1070.583633  10.839262\n",
            "Abr-2004   19607.00   5283.00  1083.236327  10.879367\n",
            "...             ...       ...          ...        ...\n",
            "Ago-2021  118781.03  50920.04  6090.183000  28.050375\n",
            "Set-2021  110979.10  47360.36  6117.101080  28.375759\n",
            "Out-2021  103500.71  44133.83  6146.829470  28.730456\n",
            "Nov-2021  101915.45  43387.81  6182.896280  29.003396\n",
            "Dez-2021  104822.44  44749.56  6230.448260  29.215120\n",
            "\n",
            "[217 rows x 4 columns]\n",
            "Periodo de avaliacao - de: Jan-2005 ( 13 ) ate: Dez-2020 ( 204 )\n",
            "Rebalanceamento a cada 1 / 1 meses\n"
          ]
        }
      ]
    },
    {
      "cell_type": "code",
      "source": [
        "#Avaliação de um portfólio. \n",
        "#Parâmetros: (portfólio, histórico de preços dos ativos)\n",
        "#Retorno: vetor com retorno acumulado, vetor com retornos periódicos, vetor com drawdown, retorno anualizado, volatilidade anualizada\n",
        "\n",
        "def EvalPort(port, fechamento):\n",
        "    port_acc_vet = []\n",
        "    port_chg_vet = []\n",
        "    port_ddown_vet = []\n",
        "    \n",
        "    port_acc = 1.0\n",
        "    port_acc_vet.append(1.0)\n",
        "    cost_trans = 0.0006\n",
        "    #cost_trans = 0.0005 + (0.004*step_eval/12)\n",
        "    \n",
        "    for lin in range(data_inicial, data_final, step_eval):\n",
        "        cont = 0.0\n",
        "        rent = 0.0\n",
        "        for col in range(0, colunas):\n",
        "            if (port.iat[lin-1, col] > 0 and fechamento.iat[lin-1, col]>0 and fechamento.iat[lin-1+step_eval, col]>0):\n",
        "                rent = rent + (fechamento.iat[lin-1+step_eval,col]/fechamento.iat[lin-1,col]-1)*(port.iat[lin-1, col])\n",
        "                cont = cont + port.iat[lin-1, col]\n",
        "        # print(cont)\n",
        "        # if (cont == 0):\n",
        "        #   return [1,1], [1,1], [0,0], 0, 0.000001\n",
        "        if cont != 0:\n",
        "          port_acc = port_acc * (1.0 + rent/cont - cost_trans)\n",
        "          port_chg_vet.append(rent/cont - cost_trans)\n",
        "          port_acc_vet.append(port_acc)\n",
        "          port_ddown_vet.append(port_acc/(np.max(port_acc_vet))-1)\n",
        "    \n",
        "    ret_aa = pow(port_acc, 12/(data_final-data_inicial))-1\n",
        "    vol_aa = np.std(port_chg_vet)*((12/step_eval)**(1/2))\n",
        "    return port_acc_vet, port_chg_vet, port_ddown_vet, ret_aa, vol_aa"
      ],
      "metadata": {
        "id": "6YAQVHkGU1f8"
      },
      "execution_count": null,
      "outputs": []
    },
    {
      "cell_type": "markdown",
      "source": [
        " portfolio \n",
        "\n",
        "\n"
      ],
      "metadata": {
        "id": "vfodqay2pm92"
      }
    },
    {
      "cell_type": "code",
      "source": [
        "def SelPort2Par(ranked_1, param_1, ranked_2, param_2):\n",
        "  port_ranked_final = ranked_1.copy()\n",
        "  port_ranked_final.loc[:, :] = 0\n",
        "  port_counter = 0\n",
        "  port_final_list = []\n",
        "  cols_sum = []\n",
        "  for lin in range(data_inicial, data_final, step_port):\n",
        "    for col in range(0, colunas):\n",
        "      if(ranked_1.iat[lin-1, col]  >= 1 and (ranked_1.iat[lin-1, col]  <= param_1)\n",
        "        and (ranked_2.iat[lin-1, col]  >= 1) and (ranked_2.iat[lin-1, col]  <= param_2)):\n",
        "\n",
        "        entry = {'lin':lin-1, 'col':col, 'rank1':ranked_1.iat[lin-1, col], 'rank2':ranked_2.iat[lin-1, col]}\n",
        "        port_final_list.append(entry)\n",
        "        \n",
        "  port_final_list = sorted(port_final_list, key=itemgetter('col'))\n",
        "\n",
        "  entries_counter_list = []\n",
        "\n",
        "  for entry in port_final_list:\n",
        "    entries_per_col = len(list(filter(lambda col_entry: col_entry['col'] == entry['col'], port_final_list)))\n",
        "    if len(list(filter(lambda col_entry: col_entry['col'] == entry['col'], entries_counter_list))) == 0:\n",
        "      entry_counter = {'col': entry['col'], 'counter': entries_per_col}\n",
        "      entries_counter_list.append(entry_counter)\n",
        "    \n",
        "  entries_counter_list = sorted(entries_counter_list, key=itemgetter('counter'), reverse=True)\n",
        "\n",
        "  for entry_counter in entries_counter_list:\n",
        "    if port_counter < 10:\n",
        "      for item in port_final_list:\n",
        "        if item['col'] == entry_counter['col']:\n",
        "          port_ranked_final.iat[item['lin'], item['col']] = 1\n",
        "      port_counter += 1\n",
        "  return port_ranked_final"
      ],
      "metadata": {
        "id": "LLina_vGihw_"
      },
      "execution_count": null,
      "outputs": []
    },
    {
      "cell_type": "markdown",
      "source": [
        "**Rankings dos fatores:**\n",
        "\n",
        "*   Momentum (Retorno 12 meses):     ranked_Mom\n",
        "*   Qualidade (ROIC):    ranked_ROIC\n",
        "*   Tamanho (Valor Patrimonial):      ranked_Val_Merc\n",
        "*   Valor (Preço/Val. Pat.):        ranked_PVP\n",
        "*   Volatilidade (Volatilidade 12 meses): ranked_Vol\n"
      ],
      "metadata": {
        "id": "MgqnYGED73cY"
      }
    },
    {
      "cell_type": "code",
      "source": [
        "# momentum e roic para trazer melhor rentabilidade\n",
        "\n",
        "ranked2 = SelPort2Par(ranked_Mom, 40, ranked_ROIC, 50)\n",
        "\n",
        "port_acc_vet2, port_chg_vet2, port_ddown_vet2, ret_aa2, vol_aa2 = EvalPort(ranked2, fechamento)\n",
        "print(\"\\nPort Fator:\\nRet. Acc.:\",round(port_acc_vet2[-1]*100-100, 2) ,\"% Ret. Anual.:\",round(ret_aa2*100,2), \"% Vol.:\", round(vol_aa2*100,2), \"% Ret/Vol:\", round(ret_aa2/vol_aa2, 2), \"DDown:\", round(np.min(port_ddown_vet2)*100,2), \"%\")\n"
      ],
      "metadata": {
        "id": "NGemruvA73L5",
        "colab": {
          "base_uri": "https://localhost:8080/"
        },
        "outputId": "fd044644-f0d0-450b-d931-d8b8c69d182e"
      },
      "execution_count": null,
      "outputs": [
        {
          "output_type": "stream",
          "name": "stdout",
          "text": [
            "\n",
            "Port Fator:\n",
            "Ret. Acc.: 2358.61 % Ret. Anual.: 22.16 % Vol.: 23.54 % Ret/Vol: 0.94 DDown: -40.77 %\n"
          ]
        }
      ]
    },
    {
      "cell_type": "code",
      "source": [
        "#momentum e volatilidade para menor volatilidade\n",
        "ranked2 = SelPort2Par(ranked_Mom, 40, ranked_Vol, 50)\n",
        "\n",
        "port_acc_vet2, port_chg_vet2, port_ddown_vet2, ret_aa2, vol_aa2 = EvalPort(ranked2, fechamento)\n",
        "print(\"\\nPort Fator:\\nRet. Acc.:\",round(port_acc_vet2[-1]*100-100, 2) ,\"% Ret. Anual.:\",round(ret_aa2*100,2), \"% Vol.:\", round(vol_aa2*100,2), \"% Ret/Vol:\", round(ret_aa2/vol_aa2, 2), \"DDown:\", round(np.min(port_ddown_vet2)*100,2), \"%\")\n"
      ],
      "metadata": {
        "colab": {
          "base_uri": "https://localhost:8080/"
        },
        "id": "o-csUa3uSQML",
        "outputId": "6a17c5a8-f067-4076-88ab-5122b754ea94"
      },
      "execution_count": null,
      "outputs": [
        {
          "output_type": "stream",
          "name": "stdout",
          "text": [
            "\n",
            "Port Fator:\n",
            "Ret. Acc.: 1674.09 % Ret. Anual.: 19.69 % Vol.: 23.78 % Ret/Vol: 0.83 DDown: -46.25 %\n"
          ]
        }
      ]
    }
  ]
}